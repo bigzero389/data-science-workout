{
 "cells": [
  {
   "cell_type": "markdown",
   "id": "7813deedb643bda7",
   "metadata": {
    "collapsed": false
   },
   "source": [
    "### 선형 가중 결합"
   ]
  },
  {
   "cell_type": "code",
   "execution_count": 2,
   "id": "initial_id",
   "metadata": {
    "ExecuteTime": {
     "end_time": "2024-02-11T11:14:33.380793Z",
     "start_time": "2024-02-11T11:14:33.283518Z"
    },
    "collapsed": true
   },
   "outputs": [
    {
     "data": {
      "text/plain": [
       "array([ -7,  -4, -13])"
      ]
     },
     "execution_count": 2,
     "metadata": {},
     "output_type": "execute_result"
    }
   ],
   "source": [
    "import numpy as np\n",
    "\n",
    "l1 = 1\n",
    "l2 = 2\n",
    "l3 = -3\n",
    "v1 = np.array([4,5,1])\n",
    "v2 = np.array([-4,0,-4])\n",
    "v3 = np.array([1,3,2])\n",
    "l1 * v1 + l2 * v2 + l3 * v3\n"
   ]
  },
  {
   "cell_type": "markdown",
   "id": "eba5c2dd",
   "metadata": {},
   "source": [
    "### 선형 종속성/선형 독립성 \n",
    "### 독립성과 영벡터\n",
    "### 부분공간과 생성\n",
    "### 기저\n",
    "- 데카르트 좌표계\n",
    "\n"
   ]
  }
 ],
 "metadata": {
  "kernelspec": {
   "display_name": "Python 3",
   "language": "python",
   "name": "python3"
  },
  "language_info": {
   "codemirror_mode": {
    "name": "ipython",
    "version": 3
   },
   "file_extension": ".py",
   "mimetype": "text/x-python",
   "name": "python",
   "nbconvert_exporter": "python",
   "pygments_lexer": "ipython3",
   "version": "3.11.7"
  }
 },
 "nbformat": 4,
 "nbformat_minor": 5
}
