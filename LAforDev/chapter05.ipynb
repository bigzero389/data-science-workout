{
 "cells": [
  {
   "cell_type": "markdown",
   "source": [
    "### 행렬의 대각합"
   ],
   "metadata": {
    "collapsed": false
   },
   "id": "ccdaa35f91890a51"
  },
  {
   "cell_type": "code",
   "outputs": [
    {
     "name": "stdout",
     "output_type": "stream",
     "text": [
      "a 대각합 : 14\n",
      "b 대각합 : 14\n",
      "a의 프로베니우스 노름 : 18.35755975068582\n",
      "b의 프로베니우스 노름 : 10.246950765959598\n"
     ]
    }
   ],
   "source": [
    "import numpy as np\n",
    "\n",
    "a = np.array([[4,5,6],\n",
    "              [0,1,4],\n",
    "              [9,9,9]])\n",
    "\n",
    "b = np.array([[0,0,0],\n",
    "              [0,8,0],\n",
    "              [1,2,6]])\n",
    "\n",
    "print(f\"a 대각합 : {np.trace(a)}\")\n",
    "print(f\"b 대각합 : {np.trace(b)}\")\n",
    "\n",
    "af = np.trace(a.T@a)**(1/2) # *: 스칼라곱, dot: 내적, @: 행렬곱\n",
    "print(f\"a의 프로베니우스 노름 : {af}\")\n",
    "\n",
    "bf = np.trace(b.T@b)**(1/2) # *: 스칼라곱, dot: 내적, @: 행렬곱\n",
    "print(f\"b의 프로베니우스 노름 : {bf}\")\n",
    "\n"
   ],
   "metadata": {
    "collapsed": true,
    "ExecuteTime": {
     "end_time": "2024-02-13T22:59:54.823903Z",
     "start_time": "2024-02-13T22:59:54.821722Z"
    }
   },
   "id": "initial_id",
   "execution_count": 16
  },
  {
   "cell_type": "markdown",
   "source": [
    "### 행렬의 곱\n",
    "https://namu.wiki/w/%ED%96%89%EB%A0%AC%EA%B3%B1"
   ],
   "metadata": {
    "collapsed": false
   },
   "id": "1b6f75282acfce6f"
  },
  {
   "cell_type": "code",
   "outputs": [
    {
     "name": "stdout",
     "output_type": "stream",
     "text": [
      "ab\n",
      "[[750 860]\n",
      " [825 805]\n",
      " [815 915]\n",
      " [787 729]]\n"
     ]
    }
   ],
   "source": [
    "a = np.array([[80,90,60],\n",
    "              [75,80,90],\n",
    "              [90,95,65],\n",
    "              [99,70,70]])\n",
    "\n",
    "b = np.array([[3,1],\n",
    "              [3,8],\n",
    "              [4,1]])\n",
    "\n",
    "print(\"ab\")\n",
    "print(a@b)"
   ],
   "metadata": {
    "collapsed": false,
    "ExecuteTime": {
     "end_time": "2024-02-13T22:59:54.828722Z",
     "start_time": "2024-02-13T22:59:54.824679Z"
    }
   },
   "id": "6f10eede04706e13",
   "execution_count": 17
  },
  {
   "cell_type": "markdown",
   "source": [
    "### 영공간을 계산하는 함수"
   ],
   "metadata": {
    "collapsed": false
   },
   "id": "b792965af0a00e76"
  },
  {
   "cell_type": "code",
   "outputs": [
    {
     "name": "stdout",
     "output_type": "stream",
     "text": [
      "A 영공간\n",
      "[[0.70710678]\n",
      " [0.70710678]]\n",
      "B 영공간\n",
      "[]\n"
     ]
    }
   ],
   "source": [
    "import scipy\n",
    "\n",
    "A = np.array([ [1,-1],\n",
    "               [-2,2] ])\n",
    "B = np.array([ [1,-1],\n",
    "               [-2,3] ])\n",
    "print(\"A 영공간\")\n",
    "print(scipy.linalg.null_space(A))\n",
    "print(\"B 영공간\")\n",
    "print(scipy.linalg.null_space(B))\n"
   ],
   "metadata": {
    "collapsed": false,
    "ExecuteTime": {
     "end_time": "2024-02-13T22:59:54.837773Z",
     "start_time": "2024-02-13T22:59:54.834001Z"
    }
   },
   "id": "3207f67f9cdfe113",
   "execution_count": 18
  },
  {
   "cell_type": "markdown",
   "source": [
    "### 행렬계수"
   ],
   "metadata": {
    "collapsed": false
   },
   "id": "71a7bcc8850a1fdb"
  },
  {
   "cell_type": "code",
   "outputs": [
    {
     "name": "stdout",
     "output_type": "stream",
     "text": [
      "A 행렬계수(rank)\n",
      "2\n"
     ]
    }
   ],
   "source": [
    "A = np.array([ [1,5,2],\n",
    "               [3,7,2],\n",
    "               [2,2,0]])\n",
    "r = np.linalg.matrix_rank(A)\n",
    "print('A 행렬계수(rank)')\n",
    "print(r)"
   ],
   "metadata": {
    "collapsed": false,
    "ExecuteTime": {
     "end_time": "2024-02-13T23:18:06.297933Z",
     "start_time": "2024-02-13T23:18:06.291728Z"
    }
   },
   "id": "9dc14f24aa867d51",
   "execution_count": 20
  }
 ],
 "metadata": {
  "kernelspec": {
   "display_name": "Python 3",
   "language": "python",
   "name": "python3"
  },
  "language_info": {
   "codemirror_mode": {
    "name": "ipython",
    "version": 2
   },
   "file_extension": ".py",
   "mimetype": "text/x-python",
   "name": "python",
   "nbconvert_exporter": "python",
   "pygments_lexer": "ipython2",
   "version": "2.7.6"
  }
 },
 "nbformat": 4,
 "nbformat_minor": 5
}
