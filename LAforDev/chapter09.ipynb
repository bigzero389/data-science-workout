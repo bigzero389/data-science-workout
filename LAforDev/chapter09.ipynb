{
 "cells": [
  {
   "cell_type": "markdown",
   "source": [
    "### RREF\n",
    "- 행사다리꼴행렬(row echelon form matrix, REF)이란 다음과 같이 성분이 계단 모양으로 배열된 행렬을 뜻한다. \n",
    "- 아래의 행렬처럼 배열된 행렬은 기약행사다리꼴(reduced row echelon form, RREF)이라 한다."
   ],
   "metadata": {
    "collapsed": false
   },
   "id": "33761b8733504b68"
  },
  {
   "cell_type": "code",
   "outputs": [
    {
     "data": {
      "text/plain": "Matrix([\n[1, 0, 1.33333333333333],\n[0, 1, 2.66666666666667]])",
      "text/latex": "$\\displaystyle \\left[\\begin{matrix}1 & 0 & 1.33333333333333\\\\0 & 1 & 2.66666666666667\\end{matrix}\\right]$"
     },
     "execution_count": 1,
     "metadata": {},
     "output_type": "execute_result"
    }
   ],
   "source": [
    "import sympy as sym\n",
    "import numpy as np\n",
    "\n",
    "# sympy 로 행렬변환\n",
    "M = np.array([ [1,1,4],[-1/2,1,2] ])\n",
    "symMat = sym.Matrix(M)\n",
    "\n",
    "# RREF\n",
    "symMat.rref()[0]"
   ],
   "metadata": {
    "collapsed": true,
    "ExecuteTime": {
     "end_time": "2024-02-17T15:23:38.295541Z",
     "start_time": "2024-02-17T15:23:38.076399Z"
    }
   },
   "id": "initial_id",
   "execution_count": 1
  },
  {
   "cell_type": "markdown",
   "source": [
    "### LU 분해"
   ],
   "metadata": {
    "collapsed": false
   },
   "id": "fe46da81840b37c"
  },
  {
   "cell_type": "code",
   "outputs": [
    {
     "name": "stdout",
     "output_type": "stream",
     "text": [
      "L: \n",
      "[[1.  0.  0. ]\n",
      " [0.5 1.  0. ]\n",
      " [1.  1.  1. ]]\n",
      "U: \n",
      "[[ 2.  2.  4.]\n",
      " [ 0. -1.  1.]\n",
      " [ 0.  0. -3.]]\n"
     ]
    },
    {
     "data": {
      "text/plain": "(None, None)"
     },
     "execution_count": 2,
     "metadata": {},
     "output_type": "execute_result"
    }
   ],
   "source": [
    "import scipy.linalg\n",
    "A = np.array([ [2,2,4], [1,0,3], [2,1,2] ])\n",
    "_,L,U = scipy.linalg.lu(A)\n",
    "\n",
    "# 각각 출력\n",
    "print('L: '), print(L)\n",
    "print('U: '), print(U)\n"
   ],
   "metadata": {
    "collapsed": false,
    "ExecuteTime": {
     "end_time": "2024-02-17T15:25:45.404297Z",
     "start_time": "2024-02-17T15:25:38.953563Z"
    }
   },
   "id": "c5e8458a7c384ee1",
   "execution_count": 2
  }
 ],
 "metadata": {
  "kernelspec": {
   "display_name": "Python 3",
   "language": "python",
   "name": "python3"
  },
  "language_info": {
   "codemirror_mode": {
    "name": "ipython",
    "version": 2
   },
   "file_extension": ".py",
   "mimetype": "text/x-python",
   "name": "python",
   "nbconvert_exporter": "python",
   "pygments_lexer": "ipython2",
   "version": "2.7.6"
  }
 },
 "nbformat": 4,
 "nbformat_minor": 5
}
