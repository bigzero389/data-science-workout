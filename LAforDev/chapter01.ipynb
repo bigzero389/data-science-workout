{
 "cells": [
  {
   "cell_type": "markdown",
   "source": [
    "### 리스트, 배열, 행, 열 "
   ],
   "metadata": {
    "collapsed": false
   },
   "id": "4562aae0fef0d538"
  },
  {
   "cell_type": "code",
   "outputs": [
    {
     "name": "stdout",
     "output_type": "stream",
     "text": [
      "asList: (3,)\n",
      "asArray: (3,)\n",
      "rowVec: (1, 3)\n",
      "colVec: (3, 1)\n"
     ]
    }
   ],
   "source": [
    "import numpy as np\n",
    "\n",
    "asList = [1,2,3]\n",
    "asArray = np.array([1,2,3])\n",
    "rowVec = np.array([ [1,2,3] ])\n",
    "colVec = np.array([ [1],[2],[3] ] )\n",
    "\n",
    "print(f'asList: {np.shape(asList)}')\n",
    "print(f'asArray: {asArray.shape}')\n",
    "print(f'rowVec: {rowVec.shape}')\n",
    "print(f'colVec: {colVec.shape}')"
   ],
   "metadata": {
    "collapsed": false,
    "ExecuteTime": {
     "end_time": "2024-02-11T10:55:48.032522Z",
     "start_time": "2024-02-11T10:55:48.028812Z"
    }
   },
   "id": "ca08e2b247e16bc1",
   "execution_count": 2
  },
  {
   "cell_type": "markdown",
   "source": [
    "### norm"
   ],
   "metadata": {
    "collapsed": false
   },
   "id": "61bbeb30450e6852"
  },
  {
   "cell_type": "code",
   "outputs": [
    {
     "data": {
      "text/plain": "9.539392014169456"
     },
     "execution_count": 4,
     "metadata": {},
     "output_type": "execute_result"
    }
   ],
   "source": [
    "v = np.array([1,2,3,4,5,6])\n",
    "v_dim = len(v)\n",
    "v_mag = np.linalg.norm(v)\n",
    "v_mag"
   ],
   "metadata": {
    "collapsed": false,
    "ExecuteTime": {
     "end_time": "2024-02-11T10:57:55.140805Z",
     "start_time": "2024-02-11T10:57:55.132263Z"
    }
   },
   "id": "f3b581d4bea4f7a6",
   "execution_count": 4
  },
  {
   "cell_type": "markdown",
   "source": [
    "### 내적, 내적 분배 법칙"
   ],
   "metadata": {
    "collapsed": false
   },
   "id": "b22783b1d9a7531f"
  },
  {
   "cell_type": "code",
   "outputs": [
    {
     "name": "stdout",
     "output_type": "stream",
     "text": [
      "70\n",
      "res1: 178 , res2 : 178\n"
     ]
    }
   ],
   "source": [
    "v = np.array([1,2,3,4])\n",
    "w = np.array([5,6,7,8])\n",
    "print(np.dot(v,w))\n",
    "\n",
    "\n",
    "a = np.array([0,2,3])\n",
    "b = np.array([3,5,8])\n",
    "c = np.array([13,21,34])\n",
    "\n",
    "res1 = np.dot(a,b+c)\n",
    "res2 = np.dot(a,b) + np.dot(a,c)\n",
    "print(f'res1: {res1} , res2 : {res2}')"
   ],
   "metadata": {
    "collapsed": false,
    "ExecuteTime": {
     "end_time": "2024-02-11T11:06:29.271791Z",
     "start_time": "2024-02-11T11:06:29.265870Z"
    }
   },
   "id": "316a2a93c446c5c0",
   "execution_count": 20
  },
  {
   "cell_type": "markdown",
   "source": [
    "### 아다마르곱 : 원소별로 곱하는 것 "
   ],
   "metadata": {
    "collapsed": false
   },
   "id": "3aef31d3fcbd48d7"
  },
  {
   "cell_type": "code",
   "outputs": [
    {
     "name": "stdout",
     "output_type": "stream",
     "text": [
      "a * b : [ 5.  0.  4. -2.]\n"
     ]
    }
   ],
   "source": [
    "a = np.array([5,4,8,2])\n",
    "b = np.array([1,0,.5,-1])\n",
    "print(f'a * b : {a * b}')\n"
   ],
   "metadata": {
    "collapsed": false,
    "ExecuteTime": {
     "end_time": "2024-02-11T11:08:21.944350Z",
     "start_time": "2024-02-11T11:08:21.942251Z"
    }
   },
   "id": "ee7d54bc13dd91cf",
   "execution_count": 21
  }
 ],
 "metadata": {
  "kernelspec": {
   "display_name": "Python 3",
   "language": "python",
   "name": "python3"
  },
  "language_info": {
   "codemirror_mode": {
    "name": "ipython",
    "version": 2
   },
   "file_extension": ".py",
   "mimetype": "text/x-python",
   "name": "python",
   "nbconvert_exporter": "python",
   "pygments_lexer": "ipython2",
   "version": "2.7.6"
  }
 },
 "nbformat": 4,
 "nbformat_minor": 5
}
