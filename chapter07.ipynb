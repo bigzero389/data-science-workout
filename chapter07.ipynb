{
 "cells": [
  {
   "cell_type": "markdown",
   "source": [
    "### 역행렬"
   ],
   "metadata": {
    "collapsed": false
   },
   "id": "1a5ac1aeed6b51ef"
  },
  {
   "cell_type": "code",
   "outputs": [
    {
     "name": "stdout",
     "output_type": "stream",
     "text": [
      "A 역행렬\n",
      "[[-7.  4.]\n",
      " [ 2. -1.]]\n",
      "A@Ainv\n",
      "[[1. 0.]\n",
      " [0. 1.]]\n",
      "Ainv@A\n",
      "[[1. 0.]\n",
      " [0. 1.]]\n"
     ]
    }
   ],
   "source": [
    "import numpy as np\n",
    "\n",
    "A = np.array([ [1,4],\n",
    "               [2,7] ])\n",
    "Ainv = np.linalg.inv(A)\n",
    "print('A 역행렬')\n",
    "print(Ainv)\n",
    "print('A@Ainv')\n",
    "print(A@Ainv)\n",
    "print('Ainv@A')\n",
    "print(Ainv@A)\n"
   ],
   "metadata": {
    "collapsed": true,
    "ExecuteTime": {
     "end_time": "2024-02-15T10:13:13.679153Z",
     "start_time": "2024-02-15T10:13:13.675167Z"
    }
   },
   "id": "initial_id",
   "execution_count": 3
  },
  {
   "cell_type": "markdown",
   "source": [
    "### 특이행렬 - 축소계수로 역행렬 불가(내적이 0 으로서 나누는 분모 0 발생)"
   ],
   "metadata": {
    "collapsed": false
   },
   "id": "ecbc3e1fea080725"
  },
  {
   "cell_type": "code",
   "outputs": [
    {
     "ename": "LinAlgError",
     "evalue": "Singular matrix",
     "output_type": "error",
     "traceback": [
      "\u001B[0;31m---------------------------------------------------------------------------\u001B[0m",
      "\u001B[0;31mLinAlgError\u001B[0m                               Traceback (most recent call last)",
      "Cell \u001B[0;32mIn[4], line 3\u001B[0m\n\u001B[1;32m      1\u001B[0m B \u001B[38;5;241m=\u001B[39m np\u001B[38;5;241m.\u001B[39marray([ [\u001B[38;5;241m1\u001B[39m,\u001B[38;5;241m4\u001B[39m],\n\u001B[1;32m      2\u001B[0m                [\u001B[38;5;241m2\u001B[39m,\u001B[38;5;241m8\u001B[39m] ])\n\u001B[0;32m----> 3\u001B[0m Binv \u001B[38;5;241m=\u001B[39m \u001B[43mnp\u001B[49m\u001B[38;5;241;43m.\u001B[39;49m\u001B[43mlinalg\u001B[49m\u001B[38;5;241;43m.\u001B[39;49m\u001B[43minv\u001B[49m\u001B[43m(\u001B[49m\u001B[43mB\u001B[49m\u001B[43m)\u001B[49m\n\u001B[1;32m      4\u001B[0m \u001B[38;5;28mprint\u001B[39m(\u001B[38;5;124m'\u001B[39m\u001B[38;5;124mB 역행렬\u001B[39m\u001B[38;5;124m'\u001B[39m)\n\u001B[1;32m      5\u001B[0m \u001B[38;5;28mprint\u001B[39m(Binv)\n",
      "File \u001B[0;32m~/Code/linearAlgebraForDeveloper/.venv/lib/python3.11/site-packages/numpy/linalg/linalg.py:561\u001B[0m, in \u001B[0;36minv\u001B[0;34m(a)\u001B[0m\n\u001B[1;32m    559\u001B[0m signature \u001B[38;5;241m=\u001B[39m \u001B[38;5;124m'\u001B[39m\u001B[38;5;124mD->D\u001B[39m\u001B[38;5;124m'\u001B[39m \u001B[38;5;28;01mif\u001B[39;00m isComplexType(t) \u001B[38;5;28;01melse\u001B[39;00m \u001B[38;5;124m'\u001B[39m\u001B[38;5;124md->d\u001B[39m\u001B[38;5;124m'\u001B[39m\n\u001B[1;32m    560\u001B[0m extobj \u001B[38;5;241m=\u001B[39m get_linalg_error_extobj(_raise_linalgerror_singular)\n\u001B[0;32m--> 561\u001B[0m ainv \u001B[38;5;241m=\u001B[39m \u001B[43m_umath_linalg\u001B[49m\u001B[38;5;241;43m.\u001B[39;49m\u001B[43minv\u001B[49m\u001B[43m(\u001B[49m\u001B[43ma\u001B[49m\u001B[43m,\u001B[49m\u001B[43m \u001B[49m\u001B[43msignature\u001B[49m\u001B[38;5;241;43m=\u001B[39;49m\u001B[43msignature\u001B[49m\u001B[43m,\u001B[49m\u001B[43m \u001B[49m\u001B[43mextobj\u001B[49m\u001B[38;5;241;43m=\u001B[39;49m\u001B[43mextobj\u001B[49m\u001B[43m)\u001B[49m\n\u001B[1;32m    562\u001B[0m \u001B[38;5;28;01mreturn\u001B[39;00m wrap(ainv\u001B[38;5;241m.\u001B[39mastype(result_t, copy\u001B[38;5;241m=\u001B[39m\u001B[38;5;28;01mFalse\u001B[39;00m))\n",
      "File \u001B[0;32m~/Code/linearAlgebraForDeveloper/.venv/lib/python3.11/site-packages/numpy/linalg/linalg.py:112\u001B[0m, in \u001B[0;36m_raise_linalgerror_singular\u001B[0;34m(err, flag)\u001B[0m\n\u001B[1;32m    111\u001B[0m \u001B[38;5;28;01mdef\u001B[39;00m \u001B[38;5;21m_raise_linalgerror_singular\u001B[39m(err, flag):\n\u001B[0;32m--> 112\u001B[0m     \u001B[38;5;28;01mraise\u001B[39;00m LinAlgError(\u001B[38;5;124m\"\u001B[39m\u001B[38;5;124mSingular matrix\u001B[39m\u001B[38;5;124m\"\u001B[39m)\n",
      "\u001B[0;31mLinAlgError\u001B[0m: Singular matrix"
     ]
    }
   ],
   "source": [
    "B = np.array([ [1,4],\n",
    "               [2,8] ])\n",
    "Binv = np.linalg.inv(B)\n",
    "print('B 역행렬')\n",
    "print(Binv)\n"
   ],
   "metadata": {
    "collapsed": false,
    "ExecuteTime": {
     "end_time": "2024-02-15T10:18:57.123102Z",
     "start_time": "2024-02-15T10:18:56.952914Z"
    }
   },
   "id": "3a39266360a54b45",
   "execution_count": 4
  },
  {
   "cell_type": "markdown",
   "source": [
    "### 단방향 역행렬 - 정방행렬이 아닌 행렬의 역행렬 "
   ],
   "metadata": {
    "collapsed": false
   },
   "id": "3c58e34705e2ced3"
  },
  {
   "cell_type": "code",
   "outputs": [
    {
     "name": "stdout",
     "output_type": "stream",
     "text": [
      "TtT_inv\n",
      "[[ 7.57876780e-04 -6.63028658e-06 -1.74350059e-05  7.97480702e-05]\n",
      " [-6.63028658e-06  6.29372991e-04  5.50295351e-05 -2.06779636e-04]\n",
      " [-1.74350059e-05  5.50295351e-05  8.03521868e-04  4.28208219e-05]\n",
      " [ 7.97480702e-05 -2.06779636e-04  4.28208219e-05  8.13927836e-04]]\n",
      "TtT_inv@TtT\n",
      "[[ 1.00000000e+00  3.79470760e-18 -4.02510057e-18 -1.26309553e-17]\n",
      " [-1.89735380e-18  1.00000000e+00  1.15196481e-17 -1.63714528e-17]\n",
      " [ 1.46367293e-18 -1.14925430e-17  1.00000000e+00  1.62630326e-18]\n",
      " [ 8.45677695e-18  8.93382590e-17  8.13151629e-18  1.00000000e+00]]\n"
     ]
    }
   ],
   "source": [
    "T = np.random.randint(-10, 11, size=(40,4)) # 정방행렬 아님\n",
    "TtT = T.T@T # 전치를 이용해서 정방행렬 만들기\n",
    "TtT_inv = np.linalg.inv(TtT)\n",
    "print('TtT_inv')\n",
    "print(TtT_inv)\n",
    "print('TtT_inv@TtT')\n",
    "print(TtT_inv@TtT)\n"
   ],
   "metadata": {
    "collapsed": false,
    "ExecuteTime": {
     "end_time": "2024-02-15T10:29:04.688550Z",
     "start_time": "2024-02-15T10:29:04.685611Z"
    }
   },
   "id": "850cc429a6ccd533",
   "execution_count": 5
  }
 ],
 "metadata": {
  "kernelspec": {
   "display_name": "Python 3",
   "language": "python",
   "name": "python3"
  },
  "language_info": {
   "codemirror_mode": {
    "name": "ipython",
    "version": 2
   },
   "file_extension": ".py",
   "mimetype": "text/x-python",
   "name": "python",
   "nbconvert_exporter": "python",
   "pygments_lexer": "ipython2",
   "version": "2.7.6"
  }
 },
 "nbformat": 4,
 "nbformat_minor": 5
}
